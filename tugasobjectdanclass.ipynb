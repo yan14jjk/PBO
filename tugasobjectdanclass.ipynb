{
  "nbformat": 4,
  "nbformat_minor": 0,
  "metadata": {
    "colab": {
      "provenance": [],
      "toc_visible": true,
      "authorship_tag": "ABX9TyNz3bF5o1voYZEPvH7qMGYp",
      "include_colab_link": true
    },
    "kernelspec": {
      "name": "python3",
      "display_name": "Python 3"
    },
    "language_info": {
      "name": "python"
    }
  },
  "cells": [
    {
      "cell_type": "markdown",
      "metadata": {
        "id": "view-in-github",
        "colab_type": "text"
      },
      "source": [
        "<a href=\"https://colab.research.google.com/github/yan14jjk/PBO/blob/main/tugasobjectdanclass.ipynb\" target=\"_parent\"><img src=\"https://colab.research.google.com/assets/colab-badge.svg\" alt=\"Open In Colab\"/></a>"
      ]
    },
    {
      "cell_type": "code",
      "execution_count": 4,
      "metadata": {
        "colab": {
          "base_uri": "https://localhost:8080/"
        },
        "id": "MIR6v9qES01H",
        "outputId": "2823d775-14db-43e8-a2b7-07f8b0abb517"
      },
      "outputs": [
        {
          "output_type": "stream",
          "name": "stdout",
          "text": [
            "Budi details:\n",
            "Rambut:  Ikal\n",
            "Warna Rambut:  Hitam\n",
            "\n",
            "Michael details:\n",
            "Rambut:  Lurus\n",
            "Warna Rambut:  Pirang\n"
          ]
        }
      ],
      "source": [
        "# Class Definition\n",
        "class Person:\n",
        "    person = 'Person'  # Class Variable\n",
        "\n",
        "    # Constructor / Init Method\n",
        "    def __init__(self, rambut, warna):\n",
        "        # Instance Variables\n",
        "        self.rambut = rambut\n",
        "        self.warna = warna\n",
        "\n",
        "# Membuat objek\n",
        "Budi = Person(\"Ikal\", \"Hitam\")\n",
        "Michael = Person(\"Lurus\", \"Pirang\")\n",
        "\n",
        "# Output\n",
        "print('Budi details:')\n",
        "print('Rambut: ', Budi.rambut)\n",
        "print('Warna Rambut: ', Budi.warna)\n",
        "\n",
        "print('\\nMichael details:')\n",
        "print('Rambut: ', Michael.rambut)\n",
        "print('Warna Rambut: ', Michael.warna)"
      ]
    }
  ]
}