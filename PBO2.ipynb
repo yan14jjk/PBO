{
  "nbformat": 4,
  "nbformat_minor": 0,
  "metadata": {
    "colab": {
      "provenance": [],
      "authorship_tag": "ABX9TyMhtrZbCGv931ZLAFevzu6g",
      "include_colab_link": true
    },
    "kernelspec": {
      "name": "python3",
      "display_name": "Python 3"
    },
    "language_info": {
      "name": "python"
    }
  },
  "cells": [
    {
      "cell_type": "markdown",
      "metadata": {
        "id": "view-in-github",
        "colab_type": "text"
      },
      "source": [
        "<a href=\"https://colab.research.google.com/github/yan14jjk/PBO/blob/main/PBO2.ipynb\" target=\"_parent\"><img src=\"https://colab.research.google.com/assets/colab-badge.svg\" alt=\"Open In Colab\"/></a>"
      ]
    },
    {
      "cell_type": "code",
      "execution_count": null,
      "metadata": {
        "colab": {
          "base_uri": "https://localhost:8080/"
        },
        "id": "P_aW9zrBuuoK",
        "outputId": "db55adbb-60ad-4758-a331-bf9d248155a1"
      },
      "outputs": [
        {
          "output_type": "stream",
          "name": "stdout",
          "text": [
            "nama ustaz: Ust.H.Putra , mengajar: Fiqih\n"
          ]
        }
      ],
      "source": [
        "class ustaz:\n",
        "    def __init__(self, nama_ustaz, mata_pelajaran):\n",
        "        self.nama = nama_ustaz\n",
        "        self.mata_pelajaran = mata_pelajaran\n",
        "\n",
        "    def info_ngajar(self):\n",
        "        print(f\"nama ustaz: {self.nama} , mengajar: {self.mata_pelajaran}\")\n",
        "\n",
        "obj_ustaz = ustaz(\"Ust.H.Putra\",\"Fiqih\")\n",
        "obj_ustaz.info_ngajar()"
      ]
    },
    {
      "cell_type": "code",
      "source": [
        "class Motor:\n",
        "    def __init__(self, produk, model):\n",
        "        self.produk = produk\n",
        "        self.model = model\n",
        "\n",
        "    def info_motor(self):\n",
        "        print(f\"Motor produk: {self.produk} , merek :{self.model}\")\n",
        "\n",
        "#  objek\n",
        "motor_saya = Motor(\"Yamaha\", \"NMAX\")\n",
        "motor_saya.info_motor()"
      ],
      "metadata": {
        "colab": {
          "base_uri": "https://localhost:8080/"
        },
        "id": "J6PyiUx8wi4H",
        "outputId": "29791cb0-9f88-427d-daec-7c7f528cda69"
      },
      "execution_count": null,
      "outputs": [
        {
          "output_type": "stream",
          "name": "stdout",
          "text": [
            "Motor produk: Yamaha , merek :NMAX\n"
          ]
        }
      ]
    },
    {
      "cell_type": "code",
      "source": [
        "class JajarGenjang:\n",
        "    def __init__(self, alas, tinggi):\n",
        "        self.alas = alas\n",
        "        self.tinggi = tinggi\n",
        "\n",
        "    def hitung_luas(self):\n",
        "        luas = self.alas * self.tinggi\n",
        "        print(f\"luas jajargenjang jika memiliki Alas: {self.alas} dan Tinggi: {self.tinggi} adalah {luas}.\")\n",
        "\n",
        "obj_jajargenjang = JajarGenjang(12, 8)\n",
        "obj_jajargenjang.hitung_luas()\n"
      ],
      "metadata": {
        "colab": {
          "base_uri": "https://localhost:8080/"
        },
        "id": "WikznHP1y7qb",
        "outputId": "bc6d3c0d-cb39-4fd4-c7b2-64b34cee3292"
      },
      "execution_count": null,
      "outputs": [
        {
          "output_type": "stream",
          "name": "stdout",
          "text": [
            "luas jajargenjang jika memiliki Alas: 12 dan Tinggi: 8 adalah 96.\n"
          ]
        }
      ]
    },
    {
      "cell_type": "code",
      "source": [
        "class AtletOlahraga:\n",
        "    def __init__(self, nama, cabang,):\n",
        "        self.nama = nama\n",
        "        self.cabang = cabang\n",
        "\n",
        "\n",
        "    def tampilkan_info(self):\n",
        "        print(f\"Atlet {self.nama} bertanding di cabang {self.cabang}\")\n",
        "\n",
        "# Membuat objek atlet\n",
        "atlet1 = AtletOlahraga(\"Ryan \", \"Lompat Tinggi\")\n",
        "atlet1.tampilkan_info()\n"
      ],
      "metadata": {
        "colab": {
          "base_uri": "https://localhost:8080/"
        },
        "id": "rdV9kFaS0yfw",
        "outputId": "522d0549-47be-4f70-c06b-bfea64cce8d6"
      },
      "execution_count": null,
      "outputs": [
        {
          "output_type": "stream",
          "name": "stdout",
          "text": [
            "Atlet Ryan  bertanding di cabang Lompat Tinggi\n"
          ]
        }
      ]
    },
    {
      "cell_type": "code",
      "source": [
        "class Smartphone:\n",
        "    def __init__(self, merk, model, harga):\n",
        "        self.merk = merk\n",
        "        self.model = model\n",
        "        self.harga = harga\n",
        "\n",
        "    def tampilkan_info(self):\n",
        "        print(f\"Smartphone {self.merk} model {self.model} memiliki harga Rp {self.harga:,}.\")\n",
        "\n",
        "# Membuat objek smartphone\n",
        "hp1 = Smartphone(\"Iphone\", \"16 Plus\", 17000000)\n",
        "hp1.tampilkan_info()\n"
      ],
      "metadata": {
        "colab": {
          "base_uri": "https://localhost:8080/"
        },
        "id": "VyP7hynA1fic",
        "outputId": "a703fedf-aded-487a-ae39-939c4ca84d04"
      },
      "execution_count": null,
      "outputs": [
        {
          "output_type": "stream",
          "name": "stdout",
          "text": [
            "Smartphone Iphone model 16 Plus memiliki harga Rp 17,000,000.\n"
          ]
        }
      ]
    }
  ]
}